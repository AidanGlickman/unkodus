{
 "cells": [
  {
   "cell_type": "code",
   "execution_count": 1,
   "metadata": {},
   "outputs": [],
   "source": [
    "import os\n",
    "import subprocess\n",
    "import json"
   ]
  },
  {
   "cell_type": "code",
   "execution_count": 2,
   "metadata": {},
   "outputs": [],
   "source": [
    "with open(\"joblist.txt\", \"r\") as joblist:\n",
    "    jobs = joblist.read().splitlines()[1:]\n",
    "    puzzles = []\n",
    "    for i, job in enumerate(jobs):\n",
    "        cmd = f'{job}'\n",
    "        result = subprocess.run(job.split(), stdout=subprocess.PIPE).stdout\n",
    "        tpuzz = str(result.decode()).split(\"===========\")\n",
    "        puzzles.extend(tpuzz)"
   ]
  },
  {
   "cell_type": "code",
   "execution_count": 3,
   "metadata": {},
   "outputs": [],
   "source": [
    "outpuzz = []\n",
    "for p in puzzles:\n",
    "    puzz = ''.join(p.split())\n",
    "    if (len(puzz) == 81):\n",
    "        outpuzz.append(puzz)\n",
    "with open('puzzlestmp.txt', 'w') as tmpfile:\n",
    "    tmpfile.write('\\n'.join(outpuzz))"
   ]
  },
  {
   "cell_type": "code",
   "execution_count": 4,
   "metadata": {},
   "outputs": [],
   "source": [
    "minimals = subprocess.run(\n",
    "    ['../minimize/suex9', 'puzzlestmp.txt'], stdout=subprocess.PIPE).stdout.split()"
   ]
  },
  {
   "cell_type": "code",
   "execution_count": 5,
   "metadata": {},
   "outputs": [
    {
     "name": "stdout",
     "output_type": "stream",
     "text": [
      "14271 14271\n"
     ]
    }
   ],
   "source": [
    "print(len(outpuzz), len(minimals))"
   ]
  },
  {
   "cell_type": "code",
   "execution_count": 9,
   "metadata": {},
   "outputs": [],
   "source": [
    "pairs = []\n",
    "for i in range(len(outpuzz)):\n",
    "    # print(outpuzz[i], minimals[i])\n",
    "    pairs.append(\n",
    "        {\n",
    "            \"puzzle\": outpuzz[i],\n",
    "            \"minimal\": minimals[i].decode()\n",
    "        }\n",
    "    )\n",
    "# print(minimals)\n",
    "with open(\"puzzles.json\", \"w\") as outfile:\n",
    "    json.dump(pairs, outfile)"
   ]
  }
 ],
 "metadata": {
  "kernelspec": {
   "display_name": "Python 3",
   "language": "python",
   "name": "python3"
  },
  "language_info": {
   "codemirror_mode": {
    "name": "ipython",
    "version": 3
   },
   "file_extension": ".py",
   "mimetype": "text/x-python",
   "name": "python",
   "nbconvert_exporter": "python",
   "pygments_lexer": "ipython3",
   "version": "3.10.9"
  },
  "orig_nbformat": 4
 },
 "nbformat": 4,
 "nbformat_minor": 2
}
